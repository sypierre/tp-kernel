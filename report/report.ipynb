{
 "cells": [
  {
   "cell_type": "code",
   "execution_count": 3,
   "metadata": {
    "collapsed": false
   },
   "outputs": [
    {
     "name": "stdout",
     "output_type": "stream",
     "text": [
      "Fitting SVC rbf on 10000 samples...\n",
      "done in 3.653s\n",
      "Predicting with SVC rbf on 40000 samples...\n",
      "done in 9.112s\n",
      "classification accuracy: 0.875\n",
      "timing_kernel:  12.7665588856\n",
      "Fitting SVC linear on 10000 samples...\n",
      "done in 0.184s\n",
      "Predicting with SVC linear on 40000 samples...\n",
      "done in 0.005s\n",
      "classification accuracy: 0.863\n",
      "timing_linear:  0.189764976501\n"
     ]
    }
   ],
   "source": [
    "from time import time\n",
    "\n",
    "from sklearn.cross_validation import train_test_split\n",
    "from sklearn.preprocessing import StandardScaler\n",
    "from sklearn.datasets.mldata import fetch_mldata\n",
    "\n",
    "import numpy as np\n",
    "from scipy import linalg\n",
    "import matplotlib.pyplot as plt\n",
    "plt.style.use('ggplot')\n",
    "\n",
    "####################################################################\n",
    "# Download the data (if not present); load it as numpy arrays\n",
    "dataset_name = 'covtype.binary'\n",
    "covtype = fetch_mldata(dataset_name)\n",
    "covtype.data = covtype.data.toarray()  # convert to dense\n",
    "\n",
    "####################################################################\n",
    "# Extract features\n",
    "X_train, X_test, y_train, y_test = \\\n",
    "    train_test_split(covtype.data[:50000, :], covtype.target[:50000],\n",
    "                     train_size=10000, random_state=42)\n",
    "\n",
    "scaler = StandardScaler()\n",
    "X_train = scaler.fit_transform(X_train)\n",
    "X_test = scaler.transform(X_test)\n",
    "\n",
    "####################################################################\n",
    "# SVM classfication (Question 1)\n",
    "\n",
    "from sklearn.svm import SVC, LinearSVC\n",
    "\n",
    "print(\"Fitting SVC rbf on %d samples...\" % X_train.shape[0])\n",
    "t0 = time()\n",
    "# TODO\n",
    "clf = SVC(kernel='rbf')\n",
    "clf.fit(X_train, y_train)\n",
    "print(\"done in %0.3fs\" % (time() - t0))\n",
    "\n",
    "print(\"Predicting with SVC rbf on %d samples...\" % X_test.shape[0])\n",
    "t1 = time()\n",
    "# TODO\n",
    "accuracy_kernel=clf.score(X_test,y_test)\n",
    "print(\"done in %0.3fs\" % (time() - t1))\n",
    "timing_kernel = time() - t0\n",
    "print(\"classification accuracy: %0.3f\" % accuracy_kernel)\n",
    "print'timing_kernel: ',str(timing_kernel)\n",
    "\n",
    "# TODO with LinearSVC\n",
    "print(\"Fitting SVC linear on %d samples...\" % X_train.shape[0])\n",
    "t0 = time()\n",
    "# TODO\n",
    "clf = LinearSVC(dual=False)\n",
    "clf.fit(X_train, y_train)\n",
    "print(\"done in %0.3fs\" % (time() - t0))\n",
    "\n",
    "print(\"Predicting with SVC linear on %d samples...\" % X_test.shape[0])\n",
    "t1 = time()\n",
    "# TODO\n",
    "accuracy_kernel=clf.score(X_test,y_test)\n",
    "print(\"done in %0.3fs\" % (time() - t1))\n",
    "timing_linear = time() - t0\n",
    "print(\"classification accuracy: %0.3f\" % accuracy_kernel)\n",
    "print'timing_linear: ',str(timing_linear)\n"
   ]
  },
  {
   "cell_type": "code",
   "execution_count": 9,
   "metadata": {
    "collapsed": false
   },
   "outputs": [
    {
     "name": "stdout",
     "output_type": "stream",
     "text": [
      "done q23\n"
     ]
    },
    {
     "data": {
      "image/png": "[encoded data removed]",
      "text/plain": [
       "<matplotlib.figure.Figure at 0x1067ac890>"
      ]
     },
     "metadata": {},
     "output_type": "display_data"
    }
   ],
   "source": [
    "%matplotlib inline\n",
    "####################################################################\n",
    "# Gram approximation\n",
    "from TP_kernel_approx_source import rank_trunc, nystrom, random_features\n",
    "\n",
    "p = 200\n",
    "r_noise = 100\n",
    "r_signal = 20\n",
    "\n",
    "intensity = 50\n",
    "\n",
    "rng = np.random.RandomState(42)\n",
    "X_noise = rng.randn(r_noise, p)\n",
    "X_signal = rng.randn(r_signal, p)\n",
    "\n",
    "gram_signal = np.dot(X_noise.T, X_noise) + intensity * np.dot(X_signal.T,\n",
    "                                                              X_signal)\n",
    "n_ranks = 100\n",
    "ranks = np.arange(1, n_ranks + 1)\n",
    "timing_fast = np.zeros(n_ranks)\n",
    "timing_slow = np.zeros(n_ranks)\n",
    "accuracy = np.zeros(n_ranks)\n",
    "\n",
    "# TODO : Question 2 Implement rank_trunc function in source file.\n",
    "# TODO : Question 3 Evaluate accuracy with Frobenius norm as a function\n",
    "# of the rank for both svd solvers\n",
    "\n",
    "# Use linalg.norm(A, 'fro') to compute Frobenius norm of A\n",
    "for k, rank in enumerate(ranks):\n",
    "    tf=time()\n",
    "    gk,_,_=rank_trunc(gram_signal,rank)\n",
    "    timing_fast[k]=time()-tf\n",
    "    tsl=time()\n",
    "    gks,_,_=rank_trunc(gram_signal,rank,fast=False)\n",
    "    timing_slow[k]=time()-tsl\n",
    "    accuracy[k]= linalg.norm(gram_signal-gk,ord='fro')/linalg.norm(gram_signal,ord='fro')\n",
    "#    accuracy[k]= linalg.norm(gram_signal-gks,ord='fro')/linalg.norm(gram_signal,ord='fro')\n",
    "\n",
    "print(\"done q23\")\n",
    "#plt.plot(accuracy,'o-')\n",
    "#plt.title('Accuracy of approximasion by truncated SVD as a function of rank')\n",
    "#plt.figure(2)\n",
    "#plt.plot(ts,'o-')\n",
    "#plt.title('Computation time using fast/slow truncSVD as a function of rank')\n",
    "\n",
    "#plt.savefig('q2.png')\n",
    "####################################################################\n",
    "# Display\n",
    "opt={'figroot':'report/figs/'}\n",
    "\n",
    "fig, axes = plt.subplots(ncols=1, nrows=2)\n",
    "ax1, ax2 = axes.ravel()\n",
    "\n",
    "ax1.plot(ranks, timing_fast, '-')\n",
    "ax1.plot(ranks, timing_slow, '-')\n",
    "\n",
    "ax1.set_xlabel('Rank')\n",
    "ax1.set_ylabel('Time')\n",
    "ax1.legend({'timing fast','timing slow'},loc=2)\n",
    "ax2.plot(ranks, accuracy, '-')\n",
    "ax2.set_xlabel('Rank')\n",
    "ax2.set_ylabel('Accuracy')\n",
    "# plt.tight_layout()\n",
    "plt.savefig(opt['figroot']+'q23-new.png')\n",
    "plt.show()"
   ]
  },
  {
   "cell_type": "markdown",
   "metadata": {},
   "source": [
    "The Nystrom approximation consists of doing .... $$F(k) = \\int_{-\\infty}^{\\infty} f(x) e^{2\\pi i k} dx$$"
   ]
  },
  {
   "cell_type": "code",
   "execution_count": null,
   "metadata": {
    "collapsed": true
   },
   "outputs": [],
   "source": []
  }
 ],
 "metadata": {
  "kernelspec": {
   "display_name": "Python 2",
   "language": "python",
   "name": "python2"
  },
  "language_info": {
   "codemirror_mode": {
    "name": "ipython",
    "version": 2
   },
   "file_extension": ".py",
   "mimetype": "text/x-python",
   "name": "python",
   "nbconvert_exporter": "python",
   "pygments_lexer": "ipython2",
   "version": "2.7.9"
  }
 },
 "nbformat": 4,
 "nbformat_minor": 0
}

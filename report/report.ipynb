{
 "cells": [
  {
   "cell_type": "code",
   "execution_count": 51,
   "metadata": {
    "collapsed": true
   },
   "outputs": [],
   "source": [
    "####################### COMPTE-RENDU: INFMDI341 TP-KERNEL-METHODS ###########################\n",
    "\n",
    "#  Student: Shuyu Dong  22/06/2015\n",
    "\n",
    "###################################   TP SOURCE   ###########################################\n",
    "\n",
    "# Authors: Bellet, Gramfort, Salmon\n",
    "from math import sqrt\n",
    "import numpy as np\n",
    "from scipy.sparse.linalg import svds\n",
    "from scipy.linalg import svd\n",
    "from sklearn.metrics.pairwise import rbf_kernel\n",
    "\n",
    "def rank_trunc(gram_mat, k, fast=True):\n",
    "    \"\"\"\n",
    "    k-th order approximation of the Gram Matrix G.\n",
    "\n",
    "    Parameters\n",
    "    ----------\n",
    "    gram_mat : array, shape (n_samples, n_samples)\n",
    "        the Gram matrix\n",
    "    k : int\n",
    "        the order approximation\n",
    "    fast : bool\n",
    "        use svd (if False) or svds (if True).\n",
    "\n",
    "    Return\n",
    "    ------\n",
    "    gram_mat_k : array, shape (n_samples, n_samples)\n",
    "        The rank k Gram matrix.\n",
    "    \"\"\"\n",
    "    if fast:\n",
    "        u,s,v=svds(gram_mat,k)\n",
    "        # TODO Question 2-3\n",
    "    else:\n",
    "        U,S,V=svd(gram_mat) #full by default--> both U,V: [nxn] here (for G=<Gram_matrix>)\n",
    "        s=S[:k]\n",
    "        u=U[:k,:k]\n",
    "        v=V[:k,:k]\n",
    "    gram_mat_k = (u.dot(np.diag(s))).dot(v)\n",
    "    return gram_mat_k, u, s\n",
    "\n",
    "\n",
    "def random_features(X_train, X_test, gamma, c=300, seed=44):\n",
    "    \"\"\"Compute random kernel features\n",
    "\n",
    "    Parameters\n",
    "    ----------\n",
    "    X_train : array, shape (n_samples1, n_features)\n",
    "        The train samples.\n",
    "    X_test : array, shape (n_samples2, n_features)\n",
    "        The test samples.\n",
    "    gamma : float\n",
    "        The Gaussian kernel parameter\n",
    "    c : int\n",
    "        The number of components\n",
    "    seed : int\n",
    "        The seed for random number generation\n",
    "\n",
    "    Return\n",
    "    ------\n",
    "    X_new_train : array, shape (n_samples1, c)\n",
    "        The new train samples.\n",
    "    X_new_test : array, shape (n_samples2, c)\n",
    "        The new test samples.\n",
    "    \"\"\"\n",
    "    rng = np.random.RandomState(seed)\n",
    "    # TODO Question 4\n",
    "    [n1,p]=X_train.shape\n",
    "    n2=X_test.shape[0]\n",
    "    # p iid Gaussian vectors \n",
    "    W=sqrt(2.0*gamma)*rng.randn(p,c)\n",
    "    # uniformly distributed phases in [0,2\\pi)\n",
    "    b=rng.uniform(0,2*np.pi,size=c)\n",
    "    # x*W ([n1 x c]) + b([,c] constant along dim-0)\n",
    "    X_new_train = sqrt(2.0/c)*np.cos(X_train.dot(W)+np.outer(np.ones(n1),b))\n",
    "    X_new_test = sqrt(2.0/c)*np.cos(X_test.dot(W)+np.outer(np.ones(n2),b))\n",
    "    \n",
    "    return X_new_train, X_new_test\n",
    "\n",
    "\n",
    "def nystrom(X_train, X_test, gamma, c=500, k=200, seed=44):\n",
    "    \"\"\"Compute nystrom kernel approximation\n",
    "\n",
    "    Parameters\n",
    "    ----------\n",
    "    X_train : array, shape (n_samples1, n_features)\n",
    "        The train samples.\n",
    "    X_test : array, shape (n_samples2, n_features)\n",
    "        The test samples.\n",
    "    gamma : float\n",
    "        The Gaussian kernel parameter\n",
    "    c : int\n",
    "        The number of points to sample for the approximation\n",
    "    k : int\n",
    "        The number of components\n",
    "    seed : int\n",
    "        The seed for random number generation\n",
    "\n",
    "    Return\n",
    "    ------\n",
    "    X_new_train : array, shape (n_samples1, c)\n",
    "        The new train samples.\n",
    "    X_new_test : array, shape (n_samples2, c)\n",
    "        The new test samples.\n",
    "    \"\"\"\n",
    "    rng = np.random.RandomState(seed)\n",
    "    # TODO Question 6\n",
    "    [n1,p] = X_train.shape\n",
    "\n",
    "    I=rng.randint(n1,size=c)\n",
    "    G=rbf_kernel(X_train[I],X_train[I],gamma=gamma)\n",
    "    Gk,uk,sk=rank_trunc(G,k) #fast: by default True\n",
    "    Mk= uk.dot(np.diag(np.sqrt(1./sk)))\n",
    "\n",
    "    Ttr = rbf_kernel(X_train, X_train[I],gamma=gamma)\n",
    "    Tte = rbf_kernel(X_test,X_train[I],gamma=gamma)\n",
    "    X_new_train =  Ttr.dot(Mk)\n",
    "    X_new_test = Tte.dot(Mk)\n",
    "\n",
    "    return X_new_train, X_new_test"
   ]
  },
  {
   "cell_type": "code",
   "execution_count": 54,
   "metadata": {
    "collapsed": false,
    "scrolled": true
   },
   "outputs": [
    {
     "name": "stdout",
     "output_type": "stream",
     "text": [
      "Fitting SVC rbf on 10000 samples...\n",
      "done in 3.792s\n",
      "Predicting with SVC rbf on 40000 samples...\n",
      "done in 9.197s\n",
      "classification accuracy: 0.875\n",
      "Fitting SVC linear on 10000 samples...\n",
      "done in 0.188s\n",
      "Predicting with SVC linear on 40000 samples...\n",
      "done in 0.005s\n",
      "classification accuracy: 0.863\n"
     ]
    }
   ],
   "source": [
    "\n",
    "##################################  TP SCRIPT  #########################################\n",
    "########################################################################################\n",
    "from time import time\n",
    "from sklearn.cross_validation import train_test_split\n",
    "from sklearn.preprocessing import StandardScaler\n",
    "from sklearn.datasets.mldata import fetch_mldata\n",
    "\n",
    "import numpy as np\n",
    "from scipy import linalg\n",
    "import matplotlib.pyplot as plt\n",
    "plt.style.use('ggplot')\n",
    "\n",
    "####################################################################\n",
    "# Download the data (if not present); load it as numpy arrays\n",
    "dataset_name = 'covtype.binary'\n",
    "covtype = fetch_mldata(dataset_name)\n",
    "covtype.data = covtype.data.toarray()  # convert to dense\n",
    "\n",
    "####################################################################\n",
    "# Extract features\n",
    "X_train, X_test, y_train, y_test = \\\n",
    "    train_test_split(covtype.data[:50000, :], covtype.target[:50000],\n",
    "                     train_size=10000, random_state=42)\n",
    "\n",
    "scaler = StandardScaler()\n",
    "X_train = scaler.fit_transform(X_train)\n",
    "X_test = scaler.transform(X_test)\n",
    "######################################################################\n",
    "#######################    TP SCRIPT   ###############################\n",
    "# SVM classfication (Question 1)\n",
    "\n",
    "from sklearn.svm import SVC, LinearSVC\n",
    "\n",
    "print(\"Fitting SVC rbf on %d samples...\" % X_train.shape[0])\n",
    "t0 = time()\n",
    "# TODO\n",
    "clf = SVC(kernel='rbf')\n",
    "clf.fit(X_train, y_train)\n",
    "print(\"done in %0.3fs\" % (time() - t0))\n",
    "\n",
    "print(\"Predicting with SVC rbf on %d samples...\" % X_test.shape[0])\n",
    "t1 = time()\n",
    "# TODO\n",
    "accuracy_kernel0=clf.score(X_test,y_test)\n",
    "print(\"done in %0.3fs\" % (time() - t1))\n",
    "timing_kernel0 = time() - t0\n",
    "print(\"classification accuracy: %0.3f\" % accuracy_kernel0)\n",
    "# print'timing_kernel: ',str(timing_kernel)\n",
    "\n",
    "# TODO with LinearSVC\n",
    "print(\"Fitting SVC linear on %d samples...\" % X_train.shape[0])\n",
    "t0 = time()\n",
    "# TODO\n",
    "clf = LinearSVC(dual=False)\n",
    "clf.fit(X_train, y_train)\n",
    "print(\"done in %0.3fs\" % (time() - t0))\n",
    "\n",
    "print(\"Predicting with SVC linear on %d samples...\" % X_test.shape[0])\n",
    "t1 = time()\n",
    "# TODO\n",
    "accuracy_linear0=clf.score(X_test,y_test)\n",
    "print(\"done in %0.3fs\" % (time() - t1))\n",
    "timing_linear0 = time() - t0\n",
    "print(\"classification accuracy: %0.3f\" % accuracy_linear0)\n",
    "# print'timing_linear: ',str(timing_linear)\n"
   ]
  },
  {
   "cell_type": "markdown",
   "metadata": {},
   "source": [
    "$\\textbf{Questions 1}$\n",
    "\n",
    "First we see that a RBF-kernel SVM requires a training time of around $20$ times longer than that of a linear SVM on the same data. The difference in computation time for prediction is even $much\\ \\ greater$: the RBF-SVM is slower by a factor of $O(10^3)$. \n",
    "\n",
    "Though the classification accuracy of the RBF-kernel is slightly higher than that of the linear SVM on test data. These two comparisons reflect a two-fold nature of the kernel SVM in general: \n",
    "    \n",
    "   (1) - Kernel SVM induces non-linear properties underlying the data features that may favor the discrimination of different classes and thus give rise to classification results;\n",
    "   \n",
    "   (2) - because of this nature, the computation of $x_i^{\\top}x_j$ that appear in the dual form of SVM become $k(x_i,x_j),$ in our case, $\\exp(-\\gamma\\Vert x_i-x_j\\Vert_2^2),$ thus requires much more computation time. This difference results in the slowing down of RBF-SVM from the linear one (although the dual form solution is not activated for linear-SVM, it doesn't change too much the comparison), the time complexity for training switch from $O(nd)$ ($d$ for feature space inner product and $n$ for number of samples) to $O(n^2);$ and for prediction, we have to compute $k(x_i^*,x_t)$ for a number of support vectors $x_i^*$ (bounded by $n$), the time complexity often switch from $O(d)$(linear case: $w^{\\top}x_t$) to $O(n)$ or larger, which is the case for our slowing down here by a factor  $>O(10000/54).$ "
   ]
  },
  {
   "cell_type": "code",
   "execution_count": 55,
   "metadata": {
    "collapsed": false
   },
   "outputs": [
    {
     "name": "stdout",
     "output_type": "stream",
     "text": [
      "done q23\n"
     ]
    },
    {
     "data": {
      "image/png": "[encoded data removed]",
      "text/plain": [
       "<matplotlib.figure.Figure at 0x1098a26d0>"
      ]
     },
     "metadata": {},
     "output_type": "display_data"
    }
   ],
   "source": [
    "%matplotlib inline\n",
    "####################################################################\n",
    "# Gram approximation\n",
    "# from TP_kernel_approx_source import rank_trunc, nystrom, random_features\n",
    "\n",
    "p = 200\n",
    "r_noise = 100\n",
    "r_signal = 20\n",
    "\n",
    "intensity = 50\n",
    "\n",
    "rng = np.random.RandomState(42)\n",
    "X_noise = rng.randn(r_noise, p)\n",
    "X_signal = rng.randn(r_signal, p)\n",
    "\n",
    "gram_signal = np.dot(X_noise.T, X_noise) + intensity * np.dot(X_signal.T,\n",
    "                                                              X_signal)\n",
    "n_ranks = 100\n",
    "ranks = np.arange(1, n_ranks + 1)\n",
    "timing_fast = np.zeros(n_ranks)\n",
    "timing_slow = np.zeros(n_ranks)\n",
    "accuracy = np.zeros(n_ranks)\n",
    "\n",
    "# TODO : Question 2 Implement rank_trunc function in source file.\n",
    "# TODO : Question 3 Evaluate accuracy with Frobenius norm as a function\n",
    "# of the rank for both svd solvers\n",
    "\n",
    "# Use linalg.norm(A, 'fro') to compute Frobenius norm of A\n",
    "for k, rank in enumerate(ranks):\n",
    "    tf=time()\n",
    "    gk,_,_=rank_trunc(gram_signal,rank)\n",
    "    timing_fast[k]=time()-tf\n",
    "    tsl=time()\n",
    "    gks,_,_=rank_trunc(gram_signal,rank,fast=False)\n",
    "    timing_slow[k]=time()-tsl\n",
    "    accuracy[k]= linalg.norm(gram_signal-gk,ord='fro')/linalg.norm(gram_signal,ord='fro')\n",
    "#    accuracy[k]= linalg.norm(gram_signal-gks,ord='fro')/linalg.norm(gram_signal,ord='fro')\n",
    "\n",
    "print(\"done q23\")\n",
    "####################################################################\n",
    "# Display\n",
    "opt={'figroot':'figs/'}\n",
    "\n",
    "fig, axes = plt.subplots(ncols=1, nrows=2)\n",
    "ax1, ax2 = axes.ravel()\n",
    "\n",
    "linef, =ax1.plot(ranks, timing_fast, '-')\n",
    "lines, =ax1.plot(ranks, timing_slow, '-')\n",
    "ax1.legend({linef,lines},{'timing fast','timing slow'},loc=2)\n",
    "\n",
    "ax1.set_xlabel('Rank')\n",
    "ax1.set_ylabel('Time')\n",
    "ax2.plot(ranks, accuracy, '-')\n",
    "ax2.set_xlabel('Rank')\n",
    "ax2.set_ylabel('Accuracy')\n",
    "# plt.tight_layout()\n",
    "plt.show()"
   ]
  },
  {
   "cell_type": "markdown",
   "metadata": {},
   "source": [
    "$\\textbf{Questions 2-3}$\n",
    "\n",
    "In the implementation $\\texttt{rank_trunc}$, two options are given:\n",
    "\n",
    "   (1) Fast option uses the imported function $\\texttt{svds}$ that only calculates the first $k$ largest singular values and the corresponding orthogonal matrices $U_k, U_k^{\\top}$ (particularily for real symmetric matrices including Gram, the SVD is equivalent to the eigenvalue decomposition $U\\Sigma U^{\\top}$). \n",
    "    \n",
    "   (2) Slow option calculates by default the full matrices for the SVD of G, this is done by the imported $\\texttt{svd}$. We just need to truncate out the first $k\\times k$ blocs to compute our approximation $$\\tilde{G}_k=U_k\\Sigma_k U_k^{\\top},$$ where $U_k=\\texttt{U[:k,:k]}$ and $\\Sigma_k=\\texttt{np.diag(S[:k]))}$.  \n",
    "   \n",
    "   The curve for the two options' computation time correspond well to their respective computational strategies: the time complexity for $fast$ naturally grows almost linearly w.r.t rank and for $slow$ remains constant modulo some critical/interesting points (independent of the option) that makes the computation fluctuate. After a certain value of $rank$, the $slow$ mode will be faster than the $fast$ mode.\n",
    "   \n",
    "   However, since the SNR is very large, the real rank of the noise-signal mixed Gram matrix is most likely to be $\\texttt{r_signal}=20$, the $rank$ can be well set at $\\sim 20$ (without lossing the slightest accuracy), for which the $fast$ mode is faster.\n",
    "   "
   ]
  },
  {
   "cell_type": "code",
   "execution_count": 56,
   "metadata": {
    "collapsed": false
   },
   "outputs": [
    {
     "name": "stdout",
     "output_type": "stream",
     "text": [
      "Fitting SVC linear on 10000 samples...\n",
      "Q5: Linear-SVM training done in 1.013s\n",
      "Predicting with linear-SVM on 40000 samples...\n",
      "prediction done in 0.018s\n",
      "classification accuracy: 0.875\n"
     ]
    }
   ],
   "source": [
    "####################################################################\n",
    "# Random Kernel Features:\n",
    "\n",
    "n_samples, n_features = X_train.shape\n",
    "n_samples_test, _ = X_test.shape\n",
    "gamma = 1. / n_features\n",
    "\n",
    "# TODO : Question 4 Implement random features in source file.\n",
    "\n",
    "Z_train, Z_test = random_features(X_train, X_test, gamma, c=300, seed=44)\n",
    "\n",
    "# TODO : Question 5 Estimate training, testing time and accuracy\n",
    "print(\"Fitting SVC linear on %d samples...\" % n_samples)\n",
    "t0 = time()\n",
    "# TODO\n",
    "clf = LinearSVC(dual=False)\n",
    "clf.fit(Z_train, y_train)\n",
    "print(\"Q5: Linear-SVM training done in %0.3fs\" % (time() - t0))\n",
    "\n",
    "print(\"Predicting with linear-SVM on %d samples...\" % n_samples_test)\n",
    "t1 = time()\n",
    "# TODO\n",
    "accuracy_kernel=clf.score(Z_test,y_test)\n",
    "print(\"prediction done in %0.3fs\" % (time() - t1))\n",
    "timing_q5 = time() - t0\n",
    "print(\"classification accuracy: %0.3f\" % accuracy_kernel)\n",
    "# print'Q5: training-testing time: ',str(timing_q5)\n"
   ]
  },
  {
   "cell_type": "markdown",
   "metadata": {},
   "source": [
    "$\\textbf{Questions 4-5}$\n",
    "\n",
    "  We can see that when trained/predicted on the RKF of the data, the computation times for training and prediction, though larger than those with raw data in Question 1, are very close to the previous ones; while the classification accuracy has increased and becomes comparable to that of the RBF-SVM.\n",
    "  \n",
    "  Since we compute the approximation (with cheap RKF) of images in the Gaussian kernel's feature space of dimension $c=300>d=54$, we are freed from having to use heavy RBF-SVM in return. As a result, we have the above overall improvement. "
   ]
  },
  {
   "cell_type": "code",
   "execution_count": 57,
   "metadata": {
    "collapsed": false
   },
   "outputs": [
    {
     "name": "stdout",
     "output_type": "stream",
     "text": [
      "Fitting SVC linear on 10000 samples...\n",
      "done in 0.678s\n",
      "Predicting with SVC linear on 40000 samples...\n",
      "done in 0.014s\n",
      "classification accuracy: 0.879\n"
     ]
    }
   ],
   "source": [
    "####################################################################\n",
    "# SVM Nystrom:\n",
    "\n",
    "# TODO : Question 6-7 Implement nystrom in source file.\n",
    "\n",
    "Z_train, Z_test = nystrom(X_train, X_test, gamma, c=500, k=200, seed=44)\n",
    "\n",
    "print(\"Fitting SVC linear on %d samples...\" % n_samples)\n",
    "t0 = time()\n",
    "clf = LinearSVC(dual=False)\n",
    "clf.fit(Z_train, y_train)\n",
    "print(\"done in %0.3fs\" % (time() - t0))\n",
    "\n",
    "print(\"Predicting with SVC linear on %d samples...\" % n_samples_test)\n",
    "t1 = time()\n",
    "accuracy = clf.score(Z_test, y_test)\n",
    "print(\"done in %0.3fs\" % (time() - t1))\n",
    "print(\"classification accuracy: %0.3f\" % accuracy)\n"
   ]
  },
  {
   "cell_type": "markdown",
   "metadata": {},
   "source": [
    "$\\textbf{Questions 6-7}$\n",
    "\n",
    "Now we apply the linear SVM on 200-dimensional features by Nyström's approximation. Similairily the tranining and prediction times have risen slightly but remain in the same order compared to those in Question 1 with linear SVM on raw data, the classification accuracy has risen by $1.3\\%$ which is now even slightly better than that of the RBF-kernel SVM."
   ]
  },
  {
   "cell_type": "code",
   "execution_count": 58,
   "metadata": {
    "collapsed": false
   },
   "outputs": [
    {
     "name": "stdout",
     "output_type": "stream",
     "text": [
      "task 0--- c=20\n",
      "task 1--- c=70\n",
      "task 2--- c=120\n",
      "task 3--- c=170\n",
      "task 4--- c=220\n",
      "task 5--- c=270\n",
      "task 6--- c=320\n",
      "task 7--- c=370\n",
      "task 8--- c=420\n",
      "task 9--- c=470\n"
     ]
    }
   ],
   "source": [
    "####################################################################\n",
    "# Results / comparisons:\n",
    "\n",
    "ranks = list(range(20, 500, 50))\n",
    "n_ranks = len(ranks)\n",
    "timing_rkf = np.zeros(n_ranks)\n",
    "timing_nystrom = np.zeros(n_ranks)\n",
    "\n",
    "accuracy_nystrom = np.zeros(n_ranks)\n",
    "accuracy_rkf = np.zeros(n_ranks)\n",
    "\n",
    "for i, c in enumerate(ranks):\n",
    "    print('task %d'%(i)+'--- c=%d'%c)\n",
    "    t0 = time()\n",
    "    # TODO Question 7/// 8 en fait\n",
    "    Z_train, Z_test = random_features(X_train, X_test, gamma, c=c, seed=44)\n",
    "    clf = LinearSVC(dual=False)\n",
    "    clf.fit(Z_train, y_train)\n",
    "    accuracy_rkf[i] = clf.score(Z_test,y_test)\n",
    "    timing_rkf[i] = time() - t0\n",
    "#     print 'shape of Ztrain: ', str(Z_train.shape)\n",
    "    t1=time()\n",
    "    Z_trainn, Z_testn = nystrom(X_train, X_test, gamma, c=c,k=c-10, seed=44)\n",
    "    clf = LinearSVC(dual=False)\n",
    "    clf.fit(Z_trainn, y_train)\n",
    "    accuracy_nystrom[i] = clf.score(Z_testn,y_test)\n",
    "    timing_nystrom[i] = time() - t1\n",
    "#     print 'shape of Ztrain_nystrom: ',str(Z_trainn.shape)\n"
   ]
  },
  {
   "cell_type": "code",
   "execution_count": 62,
   "metadata": {
    "collapsed": false,
    "scrolled": true
   },
   "outputs": [
    {
     "data": {
      "image/png": "[encoded data removed]",
      "text/plain": [
       "<matplotlib.figure.Figure at 0x10b5d4890>"
      ]
     },
     "metadata": {},
     "output_type": "display_data"
    }
   ],
   "source": [
    "##################### Suite: question 8 #######################\n",
    "fig, axes = plt.subplots(ncols=1, nrows=2)\n",
    "ax1, ax2 = axes.ravel()\n",
    "\n",
    "ltr, = ax1.plot(ranks, timing_rkf, 'o-')\n",
    "ltn = ax1.plot(ranks, timing_nystrom, '*-')\n",
    "ax1.axhline(y=timing_linear0,label='SVM')\n",
    "ax1.axhline(y=timing_kernel0,color='g',label='RBFkernel-SVM')\n",
    "\n",
    "ax1.set_xlabel('c')\n",
    "ax1.set_ylabel('Time')\n",
    "ax1.legend(loc=1)\n",
    "lar, = ax2.plot(ranks, accuracy_rkf, 'o-')\n",
    "lan, = ax2.plot(ranks,accuracy_nystrom,'*-')\n",
    "lalin = ax2.axhline(y=accuracy_linear0)\n",
    "lakern = ax2.axhline(y=accuracy_kernel0,color='g')\n",
    "ax2.set_xlabel('Rank')\n",
    "ax2.set_ylabel('Accuracy')\n",
    "ax2.legend({lar,lan},{'SVM with RKF','SVM with Nystrom'},loc=4)\n",
    "# plt.tight_layout()\n",
    "plt.show()"
   ]
  },
  {
   "cell_type": "markdown",
   "metadata": {},
   "source": [
    "$\\textbf{Question 8}$\n",
    "\n",
    "  (1) - We see from the first graph that in terms of time performance for training+prediction, linear SVM with Random Kernel Features and Nystrom approximations are very close and both slow down within a reasonable rate as $rank$ increases, their computation times increase by a factor $<O(10)$ compared to linear SVM in question 1 and are always much shorter compared to the RBFkernel-SVM.\n",
    "  \n",
    "  (2) - In terms of classification performance, we see that starting from $rank=120,$ the classification accuracies of both RKF and Nystrom based SVMs become better than the linear SVM in question 1 and close to the RBFkernel-SVM; with $rank$ ranging from $320\\sim 500,$ their performances become better than the RBFkernel-SVM and these are done, as we have seen, within much shorter computation times.\n",
    "  \n",
    "  In conclusion, RBF and Nystrom approximations provide good solutions for the need to do supervised classification with non-linear kernel features with reduced computation time compared to classical kernel SVM, for example, allowing applications in large-scale data.\n"
   ]
  }
 ],
 "metadata": {
  "kernelspec": {
   "display_name": "Python 2",
   "language": "python",
   "name": "python2"
  },
  "language_info": {
   "codemirror_mode": {
    "name": "ipython",
    "version": 2
   },
   "file_extension": ".py",
   "mimetype": "text/x-python",
   "name": "python",
   "nbconvert_exporter": "python",
   "pygments_lexer": "ipython2",
   "version": "2.7.9"
  }
 },
 "nbformat": 4,
 "nbformat_minor": 0
}
